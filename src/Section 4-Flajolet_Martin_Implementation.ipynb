{
  "nbformat": 4,
  "nbformat_minor": 0,
  "metadata": {
    "colab": {
      "name": "Flajolet-Martin-Implementation.ipynb",
      "provenance": []
    },
    "kernelspec": {
      "name": "python3",
      "display_name": "Python 3"
    },
    "language_info": {
      "name": "python"
    },
    "widgets": {
      "application/vnd.jupyter.widget-state+json": {
        "d40511c23681483ea804800ffc7663d2": {
          "model_module": "@jupyter-widgets/controls",
          "model_name": "HBoxModel",
          "model_module_version": "1.5.0",
          "state": {
            "_dom_classes": [],
            "_model_module": "@jupyter-widgets/controls",
            "_model_module_version": "1.5.0",
            "_model_name": "HBoxModel",
            "_view_count": null,
            "_view_module": "@jupyter-widgets/controls",
            "_view_module_version": "1.5.0",
            "_view_name": "HBoxView",
            "box_style": "",
            "children": [
              "IPY_MODEL_3dce61503ea84ea7a2d987d2f206f1a3",
              "IPY_MODEL_820036cf046f4fd7ace2c3b6a9ce2dba",
              "IPY_MODEL_a28647b7ab754b7494b98d6e558d50e5"
            ],
            "layout": "IPY_MODEL_aa344d9812f543d881bb136b5eae2ab3"
          }
        },
        "3dce61503ea84ea7a2d987d2f206f1a3": {
          "model_module": "@jupyter-widgets/controls",
          "model_name": "HTMLModel",
          "model_module_version": "1.5.0",
          "state": {
            "_dom_classes": [],
            "_model_module": "@jupyter-widgets/controls",
            "_model_module_version": "1.5.0",
            "_model_name": "HTMLModel",
            "_view_count": null,
            "_view_module": "@jupyter-widgets/controls",
            "_view_module_version": "1.5.0",
            "_view_name": "HTMLView",
            "description": "",
            "description_tooltip": null,
            "layout": "IPY_MODEL_38c442a8ff18440ca8c93a153de0db98",
            "placeholder": "​",
            "style": "IPY_MODEL_5896c13c48034faea72cb944eb3b5a7f",
            "value": "100%"
          }
        },
        "820036cf046f4fd7ace2c3b6a9ce2dba": {
          "model_module": "@jupyter-widgets/controls",
          "model_name": "FloatProgressModel",
          "model_module_version": "1.5.0",
          "state": {
            "_dom_classes": [],
            "_model_module": "@jupyter-widgets/controls",
            "_model_module_version": "1.5.0",
            "_model_name": "FloatProgressModel",
            "_view_count": null,
            "_view_module": "@jupyter-widgets/controls",
            "_view_module_version": "1.5.0",
            "_view_name": "ProgressView",
            "bar_style": "success",
            "description": "",
            "description_tooltip": null,
            "layout": "IPY_MODEL_9c17a6fb433c49569474043c9a0c935c",
            "max": 15000,
            "min": 0,
            "orientation": "horizontal",
            "style": "IPY_MODEL_ef55339e4be745538ed2eff6efb585f8",
            "value": 15000
          }
        },
        "a28647b7ab754b7494b98d6e558d50e5": {
          "model_module": "@jupyter-widgets/controls",
          "model_name": "HTMLModel",
          "model_module_version": "1.5.0",
          "state": {
            "_dom_classes": [],
            "_model_module": "@jupyter-widgets/controls",
            "_model_module_version": "1.5.0",
            "_model_name": "HTMLModel",
            "_view_count": null,
            "_view_module": "@jupyter-widgets/controls",
            "_view_module_version": "1.5.0",
            "_view_name": "HTMLView",
            "description": "",
            "description_tooltip": null,
            "layout": "IPY_MODEL_4cf3e5ac4cc341d783bf9229d2a38db7",
            "placeholder": "​",
            "style": "IPY_MODEL_9a6b1b9363034244af332fa6e4467f7a",
            "value": " 15000/15000 [00:04&lt;00:00, 3240.49it/s]"
          }
        },
        "aa344d9812f543d881bb136b5eae2ab3": {
          "model_module": "@jupyter-widgets/base",
          "model_name": "LayoutModel",
          "model_module_version": "1.2.0",
          "state": {
            "_model_module": "@jupyter-widgets/base",
            "_model_module_version": "1.2.0",
            "_model_name": "LayoutModel",
            "_view_count": null,
            "_view_module": "@jupyter-widgets/base",
            "_view_module_version": "1.2.0",
            "_view_name": "LayoutView",
            "align_content": null,
            "align_items": null,
            "align_self": null,
            "border": null,
            "bottom": null,
            "display": null,
            "flex": null,
            "flex_flow": null,
            "grid_area": null,
            "grid_auto_columns": null,
            "grid_auto_flow": null,
            "grid_auto_rows": null,
            "grid_column": null,
            "grid_gap": null,
            "grid_row": null,
            "grid_template_areas": null,
            "grid_template_columns": null,
            "grid_template_rows": null,
            "height": null,
            "justify_content": null,
            "justify_items": null,
            "left": null,
            "margin": null,
            "max_height": null,
            "max_width": null,
            "min_height": null,
            "min_width": null,
            "object_fit": null,
            "object_position": null,
            "order": null,
            "overflow": null,
            "overflow_x": null,
            "overflow_y": null,
            "padding": null,
            "right": null,
            "top": null,
            "visibility": null,
            "width": null
          }
        },
        "38c442a8ff18440ca8c93a153de0db98": {
          "model_module": "@jupyter-widgets/base",
          "model_name": "LayoutModel",
          "model_module_version": "1.2.0",
          "state": {
            "_model_module": "@jupyter-widgets/base",
            "_model_module_version": "1.2.0",
            "_model_name": "LayoutModel",
            "_view_count": null,
            "_view_module": "@jupyter-widgets/base",
            "_view_module_version": "1.2.0",
            "_view_name": "LayoutView",
            "align_content": null,
            "align_items": null,
            "align_self": null,
            "border": null,
            "bottom": null,
            "display": null,
            "flex": null,
            "flex_flow": null,
            "grid_area": null,
            "grid_auto_columns": null,
            "grid_auto_flow": null,
            "grid_auto_rows": null,
            "grid_column": null,
            "grid_gap": null,
            "grid_row": null,
            "grid_template_areas": null,
            "grid_template_columns": null,
            "grid_template_rows": null,
            "height": null,
            "justify_content": null,
            "justify_items": null,
            "left": null,
            "margin": null,
            "max_height": null,
            "max_width": null,
            "min_height": null,
            "min_width": null,
            "object_fit": null,
            "object_position": null,
            "order": null,
            "overflow": null,
            "overflow_x": null,
            "overflow_y": null,
            "padding": null,
            "right": null,
            "top": null,
            "visibility": null,
            "width": null
          }
        },
        "5896c13c48034faea72cb944eb3b5a7f": {
          "model_module": "@jupyter-widgets/controls",
          "model_name": "DescriptionStyleModel",
          "model_module_version": "1.5.0",
          "state": {
            "_model_module": "@jupyter-widgets/controls",
            "_model_module_version": "1.5.0",
            "_model_name": "DescriptionStyleModel",
            "_view_count": null,
            "_view_module": "@jupyter-widgets/base",
            "_view_module_version": "1.2.0",
            "_view_name": "StyleView",
            "description_width": ""
          }
        },
        "9c17a6fb433c49569474043c9a0c935c": {
          "model_module": "@jupyter-widgets/base",
          "model_name": "LayoutModel",
          "model_module_version": "1.2.0",
          "state": {
            "_model_module": "@jupyter-widgets/base",
            "_model_module_version": "1.2.0",
            "_model_name": "LayoutModel",
            "_view_count": null,
            "_view_module": "@jupyter-widgets/base",
            "_view_module_version": "1.2.0",
            "_view_name": "LayoutView",
            "align_content": null,
            "align_items": null,
            "align_self": null,
            "border": null,
            "bottom": null,
            "display": null,
            "flex": null,
            "flex_flow": null,
            "grid_area": null,
            "grid_auto_columns": null,
            "grid_auto_flow": null,
            "grid_auto_rows": null,
            "grid_column": null,
            "grid_gap": null,
            "grid_row": null,
            "grid_template_areas": null,
            "grid_template_columns": null,
            "grid_template_rows": null,
            "height": null,
            "justify_content": null,
            "justify_items": null,
            "left": null,
            "margin": null,
            "max_height": null,
            "max_width": null,
            "min_height": null,
            "min_width": null,
            "object_fit": null,
            "object_position": null,
            "order": null,
            "overflow": null,
            "overflow_x": null,
            "overflow_y": null,
            "padding": null,
            "right": null,
            "top": null,
            "visibility": null,
            "width": null
          }
        },
        "ef55339e4be745538ed2eff6efb585f8": {
          "model_module": "@jupyter-widgets/controls",
          "model_name": "ProgressStyleModel",
          "model_module_version": "1.5.0",
          "state": {
            "_model_module": "@jupyter-widgets/controls",
            "_model_module_version": "1.5.0",
            "_model_name": "ProgressStyleModel",
            "_view_count": null,
            "_view_module": "@jupyter-widgets/base",
            "_view_module_version": "1.2.0",
            "_view_name": "StyleView",
            "bar_color": null,
            "description_width": ""
          }
        },
        "4cf3e5ac4cc341d783bf9229d2a38db7": {
          "model_module": "@jupyter-widgets/base",
          "model_name": "LayoutModel",
          "model_module_version": "1.2.0",
          "state": {
            "_model_module": "@jupyter-widgets/base",
            "_model_module_version": "1.2.0",
            "_model_name": "LayoutModel",
            "_view_count": null,
            "_view_module": "@jupyter-widgets/base",
            "_view_module_version": "1.2.0",
            "_view_name": "LayoutView",
            "align_content": null,
            "align_items": null,
            "align_self": null,
            "border": null,
            "bottom": null,
            "display": null,
            "flex": null,
            "flex_flow": null,
            "grid_area": null,
            "grid_auto_columns": null,
            "grid_auto_flow": null,
            "grid_auto_rows": null,
            "grid_column": null,
            "grid_gap": null,
            "grid_row": null,
            "grid_template_areas": null,
            "grid_template_columns": null,
            "grid_template_rows": null,
            "height": null,
            "justify_content": null,
            "justify_items": null,
            "left": null,
            "margin": null,
            "max_height": null,
            "max_width": null,
            "min_height": null,
            "min_width": null,
            "object_fit": null,
            "object_position": null,
            "order": null,
            "overflow": null,
            "overflow_x": null,
            "overflow_y": null,
            "padding": null,
            "right": null,
            "top": null,
            "visibility": null,
            "width": null
          }
        },
        "9a6b1b9363034244af332fa6e4467f7a": {
          "model_module": "@jupyter-widgets/controls",
          "model_name": "DescriptionStyleModel",
          "model_module_version": "1.5.0",
          "state": {
            "_model_module": "@jupyter-widgets/controls",
            "_model_module_version": "1.5.0",
            "_model_name": "DescriptionStyleModel",
            "_view_count": null,
            "_view_module": "@jupyter-widgets/base",
            "_view_module_version": "1.2.0",
            "_view_name": "StyleView",
            "description_width": ""
          }
        }
      }
    }
  },
  "cells": [
    {
      "cell_type": "markdown",
      "source": [
        "Name: Arash Asgari\n",
        "\n",
        "Student Num: 400201037\n",
        "\n",
        "## HW 8 section 4\n"
      ],
      "metadata": {
        "id": "mYpSIEQRCB7I"
      }
    },
    {
      "cell_type": "code",
      "execution_count": 68,
      "metadata": {
        "id": "Dt5gTIJJRx4P"
      },
      "outputs": [],
      "source": [
        "import numpy as np\n",
        "from tqdm.notebook import tqdm, trange"
      ]
    },
    {
      "cell_type": "code",
      "source": [
        "f = open(\"/content/access.log\", 'r')\n",
        "raw_data = f.readlines()\n",
        "print(raw_data[0])"
      ],
      "metadata": {
        "colab": {
          "base_uri": "https://localhost:8080/"
        },
        "id": "vBtXayunb_UK",
        "outputId": "ff798601-c6f1-40e3-ee58-6a32d4f60f33"
      },
      "execution_count": 69,
      "outputs": [
        {
          "output_type": "stream",
          "name": "stdout",
          "text": [
            "130.185.74.243 - - [22/Jan/2019:04:00:36 +0330] \"GET /filter/stexists,p8391,b236?page=1 HTTP/1.1\" 200 29999 \"-\" \"Mozilla/5.0 (Windows NT 6.1; rv:42.0) Gecko/20100101 Firefox/42.0\" \"-\"\n",
            "\n"
          ]
        }
      ]
    },
    {
      "cell_type": "code",
      "source": [
        "ip_address_list = [x.split()[0] for x in raw_data]\n",
        "uniques = list(set(ip_address_list))\n",
        "print(\"number of actual distinct ip-addresses in the stream is: \", len(uniques))"
      ],
      "metadata": {
        "colab": {
          "base_uri": "https://localhost:8080/"
        },
        "id": "0Se8EzlCvxLA",
        "outputId": "62a5b879-e128-4ecb-920f-f72a45a178fc"
      },
      "execution_count": 74,
      "outputs": [
        {
          "output_type": "stream",
          "name": "stdout",
          "text": [
            "number of actual distinct ip-addresses in the stream is:  799\n"
          ]
        }
      ]
    },
    {
      "cell_type": "code",
      "source": [
        "class FlajoletMartin():\n",
        "    def __init__(self, num_of_hashFunc):\n",
        "        \"\"\"\n",
        "        constructor: returns an instance of the class\n",
        "        :param num_of_hashFunc: number of hash functions you want to apply to be assured of the validness of the output.\n",
        "        \"\"\"\n",
        "        self.num_of_hashFunc = num_of_hashFunc\n",
        "        self.hash_func_data = np.random.randint(60, size=(4, num_of_hashFunc)) + 30\n",
        "        self.hash_bias = np.random.randint(1000, size=(1, num_of_hashFunc)) + 1000\n",
        "        self.modulo = np.random.randint(5000, size=(1, num_of_hashFunc)) + 5000\n",
        "\n",
        "    def cal_hash(ip, hash_func, bias, modulo):\n",
        "        \"\"\"\n",
        "        example: ip = [1, 2, 3, 4]\n",
        "                hash function = [20, 10, 15, 42]\n",
        "                bias = 10\n",
        "                modulo = 100\n",
        "                result = 63\n",
        "        applies a hash function to an IP-address and returns the result\n",
        "        :param hash_func: the parameters of hash function\n",
        "        :param bias: an other parameter of hashing which is added to the result of multiplying hash-func by\n",
        "         the ip-address.\n",
        "        :param modulo: after multiplying the ip-address array by hash-func and adding the bias we calculate the modulo\n",
        "        :return: returns the result of applying a hash function to an ip address\n",
        "        \"\"\"\n",
        "        return (np.dot(ip, hash_func) + bias) % modulo\n",
        "\n",
        "    def num_of_zeros_on_right(self, num: int):\n",
        "        \"\"\"\n",
        "        finds number of zeros on the right side of the binary representation of the number.\n",
        "        example: num = 10 -> binary representation: (1010) -> result = 1\n",
        "        :param num: a number that is input.\n",
        "        :return: the number of zeros on the right side of the binary representation of the number.\n",
        "        \"\"\"\n",
        "        result = 0\n",
        "        if num == 0:\n",
        "            return result\n",
        "        while (num % 2 == 0):\n",
        "            result = result + 1\n",
        "            num = num // 2\n",
        "        return result\n",
        "\n",
        "    def apply_hashfuncs_to_data(self, ip):\n",
        "        \"\"\"\n",
        "        applies all hash functions to an ip-address and returns the result\n",
        "        :param ip: ip address as a numpy array of length 4.\n",
        "        :return: the result of applying hash functions which is a list of length equal to \"number of hash functions\"\n",
        "        \"\"\"\n",
        "        fl_res = []\n",
        "        hash_results = (ip.dot(self.hash_func_data) + self.hash_bias).flatten()\n",
        "        for i in range(self.num_of_hashFunc):\n",
        "            mod = hash_results[i] % self.modulo.flatten()[i]\n",
        "            fl_res.append(self.num_of_zeros_on_right(mod))\n",
        "        return fl_res\n",
        "\n",
        "    def str_to_ip(self, raw_ip: str):\n",
        "        \"\"\"\n",
        "        converts an ip-address of type string to a numpy array of shape 4.\n",
        "        :param raw_ip: ip address of type string\n",
        "            example: \"192.168.1.1\"\n",
        "        :return: ip-address converted to array\n",
        "            example: [192, 168, 1, 1]\n",
        "        \"\"\"\n",
        "        return np.array([int(x) for x in raw_ip.split('.')])\n",
        "\n",
        "    def run_flajolet(self, list_of_ip):\n",
        "        \"\"\"\n",
        "        applies the hash functions to entire data by calling the \"apply_hashfuncs_to_data\" function. finally returns\n",
        "        the number of samples in the stream using flajolet-martin algorithm. It uses multiple hash functions to ensure \n",
        "        that the estimations are as close as possible.\n",
        "        :param list_of_ip: a list of ip-addresses which are of type string each.\n",
        "        :return: the number of distinct values in the stream.\n",
        "        \"\"\"\n",
        "        hash_zeros = np.zeros((len(list_of_ip), self.num_of_hashFunc))\n",
        "        for ind in trange(len(list_of_ip)):\n",
        "            raw_ip = list_of_ip[ind]\n",
        "            ip = self.str_to_ip(raw_ip)\n",
        "            hash_res = self.apply_hashfuncs_to_data(ip)\n",
        "            hash_zeros[ind, :] = np.array(hash_res)\n",
        "        flajolet_result = np.median(np.max(hash_zeros, 0))\n",
        "        return int(2 ** flajolet_result)\n"
      ],
      "metadata": {
        "id": "cqQvXDnhe1oc"
      },
      "execution_count": 71,
      "outputs": []
    },
    {
      "cell_type": "markdown",
      "source": [
        "The algorithm alternatingly returns 512 and 1024 which means that the number of distinct ip-addressses is between these two values."
      ],
      "metadata": {
        "id": "HrFirFF2BolO"
      }
    },
    {
      "cell_type": "code",
      "source": [
        "fl = FlajoletMartin(100)\n",
        "estimated_num = fl.run_flajolet(ip_address_list)\n",
        "print(\"estimated number of distinct ip-addresses: \", estimated_num)"
      ],
      "metadata": {
        "colab": {
          "base_uri": "https://localhost:8080/",
          "height": 66,
          "referenced_widgets": [
            "d40511c23681483ea804800ffc7663d2",
            "3dce61503ea84ea7a2d987d2f206f1a3",
            "820036cf046f4fd7ace2c3b6a9ce2dba",
            "a28647b7ab754b7494b98d6e558d50e5",
            "aa344d9812f543d881bb136b5eae2ab3",
            "38c442a8ff18440ca8c93a153de0db98",
            "5896c13c48034faea72cb944eb3b5a7f",
            "9c17a6fb433c49569474043c9a0c935c",
            "ef55339e4be745538ed2eff6efb585f8",
            "4cf3e5ac4cc341d783bf9229d2a38db7",
            "9a6b1b9363034244af332fa6e4467f7a"
          ]
        },
        "id": "rHG27ROpeU-_",
        "outputId": "8fba7f70-d0f0-434d-e4ca-9335e4bcc33d"
      },
      "execution_count": 76,
      "outputs": [
        {
          "output_type": "display_data",
          "data": {
            "text/plain": [
              "  0%|          | 0/15000 [00:00<?, ?it/s]"
            ],
            "application/vnd.jupyter.widget-view+json": {
              "version_major": 2,
              "version_minor": 0,
              "model_id": "d40511c23681483ea804800ffc7663d2"
            }
          },
          "metadata": {}
        },
        {
          "output_type": "stream",
          "name": "stdout",
          "text": [
            "estimated number of distinct ip-addresses:  1024\n"
          ]
        }
      ]
    }
  ]
}