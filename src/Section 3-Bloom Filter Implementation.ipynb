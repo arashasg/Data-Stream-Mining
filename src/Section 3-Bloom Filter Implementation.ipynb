{
  "nbformat": 4,
  "nbformat_minor": 0,
  "metadata": {
    "colab": {
      "name": "Untitled32.ipynb",
      "provenance": [],
      "collapsed_sections": []
    },
    "kernelspec": {
      "name": "python3",
      "display_name": "Python 3"
    },
    "language_info": {
      "name": "python"
    }
  },
  "cells": [
    {
      "cell_type": "code",
      "source": [
        "!pip install mmh3\n",
        "!pip install bitarray"
      ],
      "metadata": {
        "colab": {
          "base_uri": "https://localhost:8080/"
        },
        "id": "NxNhP7D3qjiX",
        "outputId": "380c8f92-6456-4c90-d841-637bff4f8476"
      },
      "execution_count": 10,
      "outputs": [
        {
          "output_type": "stream",
          "name": "stdout",
          "text": [
            "Looking in indexes: https://pypi.org/simple, https://us-python.pkg.dev/colab-wheels/public/simple/\n",
            "Requirement already satisfied: mmh3 in /usr/local/lib/python3.7/dist-packages (3.0.0)\n",
            "Looking in indexes: https://pypi.org/simple, https://us-python.pkg.dev/colab-wheels/public/simple/\n",
            "Requirement already satisfied: bitarray in /usr/local/lib/python3.7/dist-packages (2.5.1)\n"
          ]
        }
      ]
    },
    {
      "cell_type": "code",
      "source": [
        "import math\n",
        "import mmh3\n",
        "from bitarray import bitarray\n",
        "import random\n",
        "import seaborn as sns"
      ],
      "metadata": {
        "id": "eZBxvFGH5wIm"
      },
      "execution_count": 31,
      "outputs": []
    },
    {
      "cell_type": "code",
      "source": [
        "import math\n",
        "import mmh3\n",
        "from bitarray import bitarray\n",
        "\n",
        "\n",
        "class BloomFilter(object):\n",
        "    '''\n",
        "    Class for Bloom filter, using murmur3 hash function\n",
        "    '''\n",
        "\n",
        "    def __init__(self, items_count, bit_array_len, k=0):\n",
        "        '''\n",
        "        items_count : int\n",
        "            Number of items expected to be stored in bloom filter\n",
        "        fp_prob : float\n",
        "            False Positive probability in decimal\n",
        "        '''\n",
        "\n",
        "        # Size of bit array to use\n",
        "        self.size = bit_array_len\n",
        "\n",
        "        # number of hash functions to use\n",
        "        if k == 0:\n",
        "            self.hash_count = self.get_hash_count(self.size, items_count)\n",
        "        else:\n",
        "            self.hash_count = k\n",
        "\n",
        "        # Bit array of given size\n",
        "        self.bit_array = bitarray(self.size)\n",
        "\n",
        "        # initialize all bits as 0\n",
        "        self.bit_array.setall(0)\n",
        "\n",
        "    def add(self, item):\n",
        "        '''\n",
        "        Add an item in the filter\n",
        "        '''\n",
        "        digests = []\n",
        "        for i in range(self.hash_count):\n",
        "            # create digest for given item.\n",
        "            # i work as seed to mmh3.hash() function\n",
        "            # With different seed, digest created is different\n",
        "            digest = mmh3.hash(item, i) % self.size\n",
        "            digests.append(digest)\n",
        "\n",
        "            # set the bit True in bit_array\n",
        "            self.bit_array[digest] = True\n",
        "\n",
        "    def check(self, item):\n",
        "        '''\n",
        "        Check for existence of an item in filter\n",
        "        '''\n",
        "        for i in range(self.hash_count):\n",
        "            digest = mmh3.hash(item, i) % self.size\n",
        "            if self.bit_array[digest] == False:\n",
        "                # if any of bit is False then,its not present\n",
        "                # in filter\n",
        "                # else there is probability that it exist\n",
        "                return False\n",
        "        return True\n",
        "\n",
        "    @classmethod\n",
        "    def get_hash_count(self, m, n):\n",
        "        '''\n",
        "        Returns the optimal num of hash function(k) to be used using\n",
        "        following formula\n",
        "        k = (m/n) * lg(2)\n",
        "\n",
        "        m : int\n",
        "            size of bit array\n",
        "        n : int\n",
        "            number of items expected to be stored in filter\n",
        "        '''\n",
        "        k = (m / n) * math.log(2)\n",
        "        return int(k)\n",
        "\n"
      ],
      "metadata": {
        "id": "wAVijXXbws9U"
      },
      "execution_count": 14,
      "outputs": []
    },
    {
      "cell_type": "markdown",
      "source": [
        "## Part B"
      ],
      "metadata": {
        "id": "biGDNRQB5U44"
      }
    },
    {
      "cell_type": "code",
      "source": [
        "def apply_check_false_positive(num_of_songs_in_history, num_of_recommended_songs, bit_array_len, k):\n",
        "  songs_in_history = [random.getrandbits(32) for i in range(num_of_songs_in_history)]\n",
        "  recommended_songs = [random.getrandbits(32) for i in range(num_of_recommended_songs)]\n",
        "  intersection_list = [i for i in recommended_songs if i in songs_in_history]\n",
        "  bloom_filter = BloomFilter(num_of_songs_in_history, bit_array_len, k)\n",
        "  # lets add the songs in the history to our bloom filter!!\n",
        "  for song in songs_in_history:\n",
        "    bloom_filter.add(str(song))\n",
        "  # now, lets check out how many recommended songs are falsely recognised to be in the history:\n",
        "  false_positive_songs = []\n",
        "  for song in recommended_songs:\n",
        "    song_exists = bloom_filter.check(str(song))\n",
        "    if song_exists:\n",
        "      false_positive_songs.append(song)\n",
        "  return len(false_positive_songs) - len(intersection_list)\n"
      ],
      "metadata": {
        "id": "PEAr1b002T6s"
      },
      "execution_count": 37,
      "outputs": []
    },
    {
      "cell_type": "code",
      "source": [
        "num_of_songs_in_history, num_of_recommended_songs, bit_array_len = 1000, 20, 4482\n",
        "num_of_false_positive_list = []\n",
        "for i in range(1000):\n",
        "  num_of_false_positive = apply_check_false_positive(num_of_songs_in_history, num_of_recommended_songs, bit_array_len)\n",
        "  num_of_false_positive_list.append(num_of_false_positive) \n",
        "\n",
        "sns.distplot(num_of_false_positive_list)"
      ],
      "metadata": {
        "colab": {
          "base_uri": "https://localhost:8080/",
          "height": 337
        },
        "id": "mZtEMvNNHYiF",
        "outputId": "75bd0c9a-9ad8-46dc-d637-d7323ca03048"
      },
      "execution_count": 35,
      "outputs": [
        {
          "output_type": "stream",
          "name": "stderr",
          "text": [
            "/usr/local/lib/python3.7/dist-packages/seaborn/distributions.py:2619: FutureWarning: `distplot` is a deprecated function and will be removed in a future version. Please adapt your code to use either `displot` (a figure-level function with similar flexibility) or `histplot` (an axes-level function for histograms).\n",
            "  warnings.warn(msg, FutureWarning)\n"
          ]
        },
        {
          "output_type": "execute_result",
          "data": {
            "text/plain": [
              "<matplotlib.axes._subplots.AxesSubplot at 0x7f2f2775ea10>"
            ]
          },
          "metadata": {},
          "execution_count": 35
        },
        {
          "output_type": "display_data",
          "data": {
            "text/plain": [
              "<Figure size 432x288 with 1 Axes>"
            ],
            "image/png": "[encoded data removed]"
          },
          "metadata": {
            "needs_background": "light"
          }
        }
      ]
    },
    {
      "cell_type": "markdown",
      "source": [
        "## Part C"
      ],
      "metadata": {
        "id": "kFrR2h0yJPTw"
      }
    },
    {
      "cell_type": "markdown",
      "source": [
        "There are 2 ways using which we can decrease the number of false postitives:\n",
        "\n",
        "\n",
        "1.   By increasing the length of false bit array\n",
        "2.   By increasing the number of filters\n",
        "\n",
        "Further explaination about their effect is presented in the document.\n",
        "\n"
      ],
      "metadata": {
        "id": "nZM0ctupJR3D"
      }
    },
    {
      "cell_type": "markdown",
      "source": [
        "## Part D"
      ],
      "metadata": {
        "id": "ulNjzvdSL95y"
      }
    },
    {
      "cell_type": "markdown",
      "source": [
        "1.The effect of increasing bit array length"
      ],
      "metadata": {
        "id": "KhDL1D47QAzn"
      }
    },
    {
      "cell_type": "code",
      "source": [
        "num_of_songs_in_history, num_of_recommended_songs, bit_array_len = 1000, 20, 6000\n",
        "num_of_false_positive_list = []\n",
        "for i in range(1000):\n",
        "  num_of_false_positive = apply_check_false_positive(num_of_songs_in_history, num_of_recommended_songs, bit_array_len)\n",
        "  num_of_false_positive_list.append(num_of_false_positive) \n",
        "\n",
        "sns.distplot(num_of_false_positive_list)"
      ],
      "metadata": {
        "colab": {
          "base_uri": "https://localhost:8080/",
          "height": 337
        },
        "id": "cdKGxnPqL8L_",
        "outputId": "52c5cf63-37b4-4604-dd78-2fbb69ab7e8a"
      },
      "execution_count": 36,
      "outputs": [
        {
          "output_type": "stream",
          "name": "stderr",
          "text": [
            "/usr/local/lib/python3.7/dist-packages/seaborn/distributions.py:2619: FutureWarning: `distplot` is a deprecated function and will be removed in a future version. Please adapt your code to use either `displot` (a figure-level function with similar flexibility) or `histplot` (an axes-level function for histograms).\n",
            "  warnings.warn(msg, FutureWarning)\n"
          ]
        },
        {
          "output_type": "execute_result",
          "data": {
            "text/plain": [
              "<matplotlib.axes._subplots.AxesSubplot at 0x7f2f29d44490>"
            ]
          },
          "metadata": {},
          "execution_count": 36
        },
        {
          "output_type": "display_data",
          "data": {
            "text/plain": [
              "<Figure size 432x288 with 1 Axes>"
            ],
            "image/png": "[encoded data removed]"
          },
          "metadata": {
            "needs_background": "light"
          }
        }
      ]
    },
    {
      "cell_type": "markdown",
      "source": [
        "2.The effect of increasing the number of filters"
      ],
      "metadata": {
        "id": "nhCRj1fsU0SV"
      }
    },
    {
      "cell_type": "code",
      "source": [
        "def get_hash_count(m, n):\n",
        "        '''\n",
        "        Returns the optimal num of hash function(k) to be used using\n",
        "        following formula\n",
        "        k = (m/n) * lg(2)\n",
        "\n",
        "        m : int\n",
        "            size of bit array\n",
        "        n : int\n",
        "            number of items expected to be stored in filter\n",
        "        '''\n",
        "        k = (m / n) * math.log(2)\n",
        "        return int(k)"
      ],
      "metadata": {
        "id": "I7ZoD9MZVkSy"
      },
      "execution_count": 39,
      "outputs": []
    },
    {
      "cell_type": "code",
      "source": [
        "num_of_songs_in_history, num_of_recommended_songs, bit_array_len = 1000, 20, 6000\n",
        "num_of_false_positive_list = []\n",
        "for i in range(1000):\n",
        "  num_of_false_positive = apply_check_false_positive(num_of_songs_in_history, num_of_recommended_songs, bit_array_len, 0)\n",
        "  num_of_false_positive_list.append(num_of_false_positive) \n",
        "print(\"number of filters: \", get_hash_count(bit_array_len, num_of_songs_in_history))\n",
        "sns.distplot(num_of_false_positive_list)"
      ],
      "metadata": {
        "colab": {
          "base_uri": "https://localhost:8080/",
          "height": 354
        },
        "id": "5UFLs4dJU6Xk",
        "outputId": "3e9a0d95-ea81-4c70-d8fa-8976b59245a2"
      },
      "execution_count": 40,
      "outputs": [
        {
          "output_type": "stream",
          "name": "stdout",
          "text": [
            "number of filters:  4\n"
          ]
        },
        {
          "output_type": "stream",
          "name": "stderr",
          "text": [
            "/usr/local/lib/python3.7/dist-packages/seaborn/distributions.py:2619: FutureWarning: `distplot` is a deprecated function and will be removed in a future version. Please adapt your code to use either `displot` (a figure-level function with similar flexibility) or `histplot` (an axes-level function for histograms).\n",
            "  warnings.warn(msg, FutureWarning)\n"
          ]
        },
        {
          "output_type": "execute_result",
          "data": {
            "text/plain": [
              "<matplotlib.axes._subplots.AxesSubplot at 0x7f2f3888c150>"
            ]
          },
          "metadata": {},
          "execution_count": 40
        },
        {
          "output_type": "display_data",
          "data": {
            "text/plain": [
              "<Figure size 432x288 with 1 Axes>"
            ],
            "image/png": "[encoded data removed]"
          },
          "metadata": {
            "needs_background": "light"
          }
        }
      ]
    },
    {
      "cell_type": "code",
      "source": [
        "num_of_songs_in_history, num_of_recommended_songs, bit_array_len = 1000, 20, 6000\n",
        "num_of_false_positive_list = []\n",
        "for i in range(1000):\n",
        "  num_of_false_positive = apply_check_false_positive(num_of_songs_in_history, num_of_recommended_songs, bit_array_len, 10)\n",
        "  num_of_false_positive_list.append(num_of_false_positive) \n",
        "sns.distplot(num_of_false_positive_list)"
      ],
      "metadata": {
        "colab": {
          "base_uri": "https://localhost:8080/",
          "height": 337
        },
        "id": "iyhU1UXxW_0i",
        "outputId": "283973f6-c5e8-4248-f848-b989f940e22b"
      },
      "execution_count": 41,
      "outputs": [
        {
          "output_type": "stream",
          "name": "stderr",
          "text": [
            "/usr/local/lib/python3.7/dist-packages/seaborn/distributions.py:2619: FutureWarning: `distplot` is a deprecated function and will be removed in a future version. Please adapt your code to use either `displot` (a figure-level function with similar flexibility) or `histplot` (an axes-level function for histograms).\n",
            "  warnings.warn(msg, FutureWarning)\n"
          ]
        },
        {
          "output_type": "execute_result",
          "data": {
            "text/plain": [
              "<matplotlib.axes._subplots.AxesSubplot at 0x7f2f274d5f90>"
            ]
          },
          "metadata": {},
          "execution_count": 41
        },
        {
          "output_type": "display_data",
          "data": {
            "text/plain": [
              "<Figure size 432x288 with 1 Axes>"
            ],
            "image/png": "[encoded data removed]"
          },
          "metadata": {
            "needs_background": "light"
          }
        }
      ]
    }
  ]
}